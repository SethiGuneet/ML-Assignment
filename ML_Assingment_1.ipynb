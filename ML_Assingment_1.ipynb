{
 "cells": [
  {
   "cell_type": "code",
   "execution_count": 1,
   "id": "a201361e",
   "metadata": {},
   "outputs": [
    {
     "name": "stdout",
     "output_type": "stream",
     "text": [
      "Enter your name: Guneet Singh\n",
      "Enter your age: 21\n",
      "Enter the Number of times you want to print Message: 8\n",
      "Hey! Guneet Singh, you will be of 100 years in 2100\n",
      "\n",
      "Printing Message for 8 times \n",
      "\n",
      "Hey! Guneet Singh, you will be of 100 years in 2100\n",
      "\n",
      "Hey! Guneet Singh, you will be of 100 years in 2100\n",
      "\n",
      "Hey! Guneet Singh, you will be of 100 years in 2100\n",
      "\n",
      "Hey! Guneet Singh, you will be of 100 years in 2100\n",
      "\n",
      "Hey! Guneet Singh, you will be of 100 years in 2100\n",
      "\n",
      "Hey! Guneet Singh, you will be of 100 years in 2100\n",
      "\n",
      "Hey! Guneet Singh, you will be of 100 years in 2100\n",
      "\n",
      "Hey! Guneet Singh, you will be of 100 years in 2100\n",
      "\n"
     ]
    }
   ],
   "source": [
    "# Question 1 \n",
    "\n",
    "from datetime import date\n",
    "name=input(\"Enter your name: \")\n",
    "age=int(input(\"Enter your age: \"))\n",
    "num=int(input(\"Enter the Number of times you want to print Message: \"))\n",
    "age_hun=(date.today().year) + (100-age)\n",
    "print(\"Hey! \"+name+ \", you will be of 100 years in \"+ str(age_hun) + \"\\n\")\n",
    "print(\"Printing Message for \"+ str(num) +\" times \\n\")\n",
    "for i in range(num):\n",
    "    print(\"Hey! \"+name+ \", you will be of 100 years in \"+ str(age_hun) + \"\\n\")"
   ]
  },
  {
   "cell_type": "code",
   "execution_count": 2,
   "id": "1557979a",
   "metadata": {},
   "outputs": [
    {
     "name": "stdout",
     "output_type": "stream",
     "text": [
      "New List is: [1, 1, 2, 3]\n",
      "New List in one line is: [1, 1, 2, 3]\n",
      "Enter the number to find element smaller than the number: 31\n",
      "Elements smaller than 31 are: [1, 1, 2, 3, 5, 8, 13, 21]\n"
     ]
    }
   ],
   "source": [
    "#Question 2\n",
    "\n",
    "def small_list(list):\n",
    "  # Printing Elements Less than 5\n",
    "  new_list = []\n",
    "  for i in list:\n",
    "    if i<5: \n",
    "      #Appending in List\n",
    "      new_list.append(i)\n",
    "  print(\"New List is: {}\".format(new_list))\n",
    "\n",
    "  #Appending in one line\n",
    "  list_new = [x for x in list if x<5]\n",
    "  print(\"New List in one line is: {}\".format(list_new))\n",
    "\n",
    "  #Asking user choice number\n",
    "  num = int(input(\"Enter the number to find element smaller than the number: \"))\n",
    "  list_f = [x for x in list if x<num]\n",
    "  print(\"Elements smaller than {} are: {}\".format(num, list_f))\n",
    "\n",
    "\n",
    "\n",
    "list = [1, 1, 2, 3, 5, 8, 13, 21, 34, 55, 89]\n",
    "small_list(list)"
   ]
  },
  {
   "cell_type": "code",
   "execution_count": 3,
   "id": "c5c1ec26",
   "metadata": {},
   "outputs": [
    {
     "name": "stdout",
     "output_type": "stream",
     "text": [
      "Enter the number of Fibonacci Elements needed: 13\n",
      "Fibonacci sequence:  0 1 1 2 3 5 8 13 21 34 55 89 144 "
     ]
    }
   ],
   "source": [
    "#Question 3\n",
    "\n",
    "def recur_fibo(n):\n",
    "   if n <= 1:\n",
    "       return n\n",
    "   else:\n",
    "       return(recur_fibo(n-1) + recur_fibo(n-2))\n",
    "\n",
    "nterms = int(input(\"Enter the number of Fibonacci Elements needed: \"))\n",
    "\n",
    "# check if the number of terms is valid\n",
    "if nterms <= 0:\n",
    "   print(\"Plese enter a positive integer\")\n",
    "else:\n",
    "   print(\"Fibonacci sequence: \", end =\" \")\n",
    "   for i in range(nterms):\n",
    "       print(recur_fibo(i), end =\" \")"
   ]
  },
  {
   "cell_type": "code",
   "execution_count": 4,
   "id": "df9b660c",
   "metadata": {},
   "outputs": [
    {
     "name": "stdout",
     "output_type": "stream",
     "text": [
      "List using for loop:  1 2 3 5 8 36 13 21 34 55 89 27 \n",
      "List using Sets:  1 2 3 36 5 34 8 13 21 55 89 27 "
     ]
    }
   ],
   "source": [
    "#Question 4\n",
    "\n",
    "def list_for(lists):\n",
    "  for_list = []\n",
    "  for l in lists:\n",
    "    if l not in for_list:\n",
    "      for_list.append(l)\n",
    "  for x in for_list:\n",
    "    print(x, end=\" \")\n",
    "del list\n",
    "def using_set(lists):\n",
    "    test_list = list(set(lists))\n",
    "    for x in test_list:\n",
    "        print(x, end=\" \")\n",
    "         \n",
    "lists = [1, 1, 2, 3, 5, 8, 36, 13, 21, 34, 55, 89, 21, 89, 27, 36]\n",
    "print(\"List using for loop: \", end=\" \")\n",
    "list_for(lists)\n",
    "print(\"\\nList using Sets: \", end=\" \")\n",
    "using_set(lists)"
   ]
  },
  {
   "cell_type": "code",
   "execution_count": 5,
   "id": "e11aec42",
   "metadata": {},
   "outputs": [
    {
     "name": "stdout",
     "output_type": "stream",
     "text": [
      "Case 1:\n",
      "Enter Number of your choice: 23\n",
      "Entered number is Prime\n",
      "\n",
      " Case 2:\n",
      "Enter Number of your choice: 57\n",
      "Entered number is not Prime\n"
     ]
    }
   ],
   "source": [
    "#Question 5\n",
    "\n",
    "def check_prime():\n",
    "  num = int(input(\"Enter Number of your choice: \"))\n",
    "  flag = 1\n",
    "  for i in range(2, int(num/2)):\n",
    "    if(num%i == 0):\n",
    "      flag = 0\n",
    "      break\n",
    "  if(flag==0):\n",
    "    print(\"Entered number is not Prime\")\n",
    "  else:\n",
    "    print(\"Entered number is Prime\")\n",
    "\n",
    "print(\"Case 1:\")    \n",
    "check_prime()\n",
    "print(\"\\n Case 2:\")\n",
    "check_prime()"
   ]
  },
  {
   "cell_type": "code",
   "execution_count": null,
   "id": "967aeaf7",
   "metadata": {},
   "outputs": [],
   "source": []
  }
 ],
 "metadata": {
  "kernelspec": {
   "display_name": "Python 3",
   "language": "python",
   "name": "python3"
  },
  "language_info": {
   "codemirror_mode": {
    "name": "ipython",
    "version": 3
   },
   "file_extension": ".py",
   "mimetype": "text/x-python",
   "name": "python",
   "nbconvert_exporter": "python",
   "pygments_lexer": "ipython3",
   "version": "3.8.5"
  }
 },
 "nbformat": 4,
 "nbformat_minor": 5
}
